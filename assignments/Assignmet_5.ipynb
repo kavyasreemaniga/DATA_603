{
  "nbformat": 4,
  "nbformat_minor": 0,
  "metadata": {
    "colab": {
      "provenance": [],
      "collapsed_sections": [],
      "authorship_tag": "ABX9TyNef7OrnWeX4+YcR1JUVIFd",
      "include_colab_link": true
    },
    "kernelspec": {
      "name": "python3",
      "display_name": "Python 3"
    },
    "language_info": {
      "name": "python"
    }
  },
  "cells": [
    {
      "cell_type": "markdown",
      "metadata": {
        "id": "view-in-github",
        "colab_type": "text"
      },
      "source": [
        "<a href=\"https://colab.research.google.com/github/kavyasreemaniga/DATA_603/blob/main/assignments/Assignmet_5.ipynb\" target=\"_parent\"><img src=\"https://colab.research.google.com/assets/colab-badge.svg\" alt=\"Open In Colab\"/></a>"
      ]
    },
    {
      "cell_type": "markdown",
      "source": [
        "## Assignment 5- Baltimore Crime Data"
      ],
      "metadata": {
        "id": "yZIRZpyteDj4"
      }
    },
    {
      "cell_type": "code",
      "source": [
        "pip install pyspark"
      ],
      "metadata": {
        "colab": {
          "base_uri": "https://localhost:8080/"
        },
        "id": "sNa3Hf23eS03",
        "outputId": "ba97a543-217f-4950-e800-51baf82f2872"
      },
      "execution_count": 1,
      "outputs": [
        {
          "output_type": "stream",
          "name": "stdout",
          "text": [
            "Looking in indexes: https://pypi.org/simple, https://us-python.pkg.dev/colab-wheels/public/simple/\n",
            "Collecting pyspark\n",
            "  Downloading pyspark-3.3.0.tar.gz (281.3 MB)\n",
            "\u001b[K     |████████████████████████████████| 281.3 MB 50 kB/s \n",
            "\u001b[?25hCollecting py4j==0.10.9.5\n",
            "  Downloading py4j-0.10.9.5-py2.py3-none-any.whl (199 kB)\n",
            "\u001b[K     |████████████████████████████████| 199 kB 51.9 MB/s \n",
            "\u001b[?25hBuilding wheels for collected packages: pyspark\n",
            "  Building wheel for pyspark (setup.py) ... \u001b[?25l\u001b[?25hdone\n",
            "  Created wheel for pyspark: filename=pyspark-3.3.0-py2.py3-none-any.whl size=281764026 sha256=b6a93336e0e2c96e53df0035f1bb0c43cfa7675e9c121a7a36343672a9361a10\n",
            "  Stored in directory: /root/.cache/pip/wheels/7a/8e/1b/f73a52650d2e5f337708d9f6a1750d451a7349a867f928b885\n",
            "Successfully built pyspark\n",
            "Installing collected packages: py4j, pyspark\n",
            "Successfully installed py4j-0.10.9.5 pyspark-3.3.0\n"
          ]
        }
      ]
    },
    {
      "cell_type": "markdown",
      "source": [
        "### We need pyspark.sql.types to define schemas for the DataFrames. The pyspark.sql.functions library contains all of the functions specific to SQL and DataFrames in PySpark."
      ],
      "metadata": {
        "id": "jLpg2ay2sKBA"
      }
    },
    {
      "cell_type": "markdown",
      "source": [
        "#### 1. Specify the schema for the crime data set."
      ],
      "metadata": {
        "id": "EmSOq2TJsQ0A"
      }
    },
    {
      "cell_type": "code",
      "source": [
        "from pyspark.sql.types import *  # Necessary for creating schemas\n",
        "from pyspark.sql.functions import * # Importing PySpark functions"
      ],
      "metadata": {
        "id": "QswZhZqsp3P-"
      },
      "execution_count": 2,
      "outputs": []
    },
    {
      "cell_type": "code",
      "source": [
        "pip install findspark"
      ],
      "metadata": {
        "colab": {
          "base_uri": "https://localhost:8080/"
        },
        "id": "sBgy_MNeAE2G",
        "outputId": "c475c763-38f5-4022-c470-0fa7aa407902"
      },
      "execution_count": 3,
      "outputs": [
        {
          "output_type": "stream",
          "name": "stdout",
          "text": [
            "Looking in indexes: https://pypi.org/simple, https://us-python.pkg.dev/colab-wheels/public/simple/\n",
            "Collecting findspark\n",
            "  Downloading findspark-2.0.1-py2.py3-none-any.whl (4.4 kB)\n",
            "Installing collected packages: findspark\n",
            "Successfully installed findspark-2.0.1\n"
          ]
        }
      ]
    },
    {
      "cell_type": "code",
      "source": [
        "pip show pyspark"
      ],
      "metadata": {
        "colab": {
          "base_uri": "https://localhost:8080/"
        },
        "id": "0-5abUycOAEA",
        "outputId": "fb830f3c-a039-48e3-da7f-2c8f5658875d"
      },
      "execution_count": 4,
      "outputs": [
        {
          "output_type": "stream",
          "name": "stdout",
          "text": [
            "Name: pyspark\n",
            "Version: 3.3.0\n",
            "Summary: Apache Spark Python API\n",
            "Home-page: https://github.com/apache/spark/tree/master/python\n",
            "Author: Spark Developers\n",
            "Author-email: dev@spark.apache.org\n",
            "License: http://www.apache.org/licenses/LICENSE-2.0\n",
            "Location: /usr/local/lib/python3.7/dist-packages\n",
            "Requires: py4j\n",
            "Required-by: \n"
          ]
        }
      ]
    },
    {
      "cell_type": "code",
      "source": [
        "import findspark\n",
        "findspark.init()\n",
        "from pyspark.sql import SparkSession\n",
        "spark = SparkSession.builder.master(\"local[*]\").getOrCreate()"
      ],
      "metadata": {
        "id": "rFEZxuq-_8xL"
      },
      "execution_count": 5,
      "outputs": []
    },
    {
      "cell_type": "code",
      "source": [
        "from pyspark.sql.types import StructType, StructField, StringType, IntegerType, DoubleType, TimestampType\n",
        "from pyspark import StorageLevel\n",
        "import pyspark.sql.functions as F\n",
        "schema = StructType([\n",
        "    StructField('X', DoubleType(), True),\n",
        "    StructField('Y', DoubleType(), True),\n",
        "    StructField('RowID', IntegerType(), False),\n",
        "    StructField('CrimeDateTime', StringType(), True), # TimestampType ??\n",
        "    StructField('CrimeCode', StringType(), True),\n",
        "    StructField('Location', StringType(), True),\n",
        "    StructField('Description', StringType(), True),\n",
        "    StructField('Inside_Outside', StringType(), True),\n",
        "    StructField('Weapon', StringType(), True),\n",
        "    StructField('Post', StringType(), True),\n",
        "    StructField('District', StringType(), True),\n",
        "    StructField('Neighborhood', StringType(), True),\n",
        "    StructField('Latitude', DoubleType(), True),\n",
        "    StructField('Longitude', DoubleType(), True),\n",
        "    StructField('GeoLocation', StringType(), True),\n",
        "    StructField('Premise', StringType(), True),\n",
        "    StructField('VRIName', StringType(), True),\n",
        "    StructField('Total_Incidents', IntegerType(), True),\n",
        "    StructField('Shape', StringType(), True)\n",
        "  ])\n"
      ],
      "metadata": {
        "id": "Xph2Wj5w_hlt"
      },
      "execution_count": 6,
      "outputs": []
    },
    {
      "cell_type": "markdown",
      "source": [
        "### 2. Read the file using the schema definition"
      ],
      "metadata": {
        "id": "TZr5ij50ClG0"
      }
    },
    {
      "cell_type": "code",
      "source": [
        "df = spark.read.option('header', True).schema(schema).csv(\"Part1_Crime_data.csv\")\n",
        "df.persist(StorageLevel.MEMORY_AND_DISK)\n",
        "\n"
      ],
      "metadata": {
        "colab": {
          "base_uri": "https://localhost:8080/"
        },
        "id": "nRKSreMLChjX",
        "outputId": "db4cdb0c-8c01-4de7-e354-1eca7773027c"
      },
      "execution_count": 8,
      "outputs": [
        {
          "output_type": "stream",
          "name": "stdout",
          "text": [
            "29784\n",
            "root\n",
            " |-- X: double (nullable = true)\n",
            " |-- Y: double (nullable = true)\n",
            " |-- RowID: integer (nullable = true)\n",
            " |-- CrimeDateTime: string (nullable = true)\n",
            " |-- CrimeCode: string (nullable = true)\n",
            " |-- Location: string (nullable = true)\n",
            " |-- Description: string (nullable = true)\n",
            " |-- Inside_Outside: string (nullable = true)\n",
            " |-- Weapon: string (nullable = true)\n",
            " |-- Post: string (nullable = true)\n",
            " |-- District: string (nullable = true)\n",
            " |-- Neighborhood: string (nullable = true)\n",
            " |-- Latitude: double (nullable = true)\n",
            " |-- Longitude: double (nullable = true)\n",
            " |-- GeoLocation: string (nullable = true)\n",
            " |-- Premise: string (nullable = true)\n",
            " |-- VRIName: string (nullable = true)\n",
            " |-- Total_Incidents: integer (nullable = true)\n",
            " |-- Shape: string (nullable = true)\n",
            "\n"
          ]
        }
      ]
    },
    {
      "cell_type": "markdown",
      "source": [
        "### 3. Cache the DataFrame"
      ],
      "metadata": {
        "id": "-YJkmUOLCaKk"
      }
    },
    {
      "cell_type": "markdown",
      "source": [
        "#### Using cache() and persist() methods, Spark provides an optimization mechanism to store the intermediate computation of a Spark DataFrame so they can be reused in subsequent actions."
      ],
      "metadata": {
        "id": "1LOKCIPDCXZG"
      }
    },
    {
      "cell_type": "markdown",
      "source": [
        "### - spark caching can be used to pull datasets into a cluster-wide-in-memory cache. This is very useful for accessing repeated data when running an iterative algorithm."
      ],
      "metadata": {
        "id": "OvMD98WyGCrm"
      }
    },
    {
      "cell_type": "code",
      "source": [
        "df.is_cached"
      ],
      "metadata": {
        "colab": {
          "base_uri": "https://localhost:8080/"
        },
        "id": "_5ov0zX6_tzp",
        "outputId": "1d3249c4-8da4-489d-b472-026cd548be8a"
      },
      "execution_count": 9,
      "outputs": [
        {
          "output_type": "execute_result",
          "data": {
            "text/plain": [
              "True"
            ]
          },
          "metadata": {},
          "execution_count": 9
        }
      ]
    },
    {
      "cell_type": "code",
      "source": [
        "df.cache()"
      ],
      "metadata": {
        "colab": {
          "base_uri": "https://localhost:8080/"
        },
        "id": "ps2068mMITob",
        "outputId": "5c9cda4f-91c2-4b33-c505-ad9a039851e9"
      },
      "execution_count": 10,
      "outputs": [
        {
          "output_type": "execute_result",
          "data": {
            "text/plain": [
              "DataFrame[X: double, Y: double, RowID: int, CrimeDateTime: string, CrimeCode: string, Location: string, Description: string, Inside_Outside: string, Weapon: string, Post: string, District: string, Neighborhood: string, Latitude: double, Longitude: double, GeoLocation: string, Premise: string, VRIName: string, Total_Incidents: int, Shape: string]"
            ]
          },
          "metadata": {},
          "execution_count": 10
        }
      ]
    },
    {
      "cell_type": "markdown",
      "source": [
        "### 4. Show the count of the rows"
      ],
      "metadata": {
        "id": "ieMtxGpiJgMh"
      }
    },
    {
      "cell_type": "code",
      "source": [
        "df.count()"
      ],
      "metadata": {
        "colab": {
          "base_uri": "https://localhost:8080/"
        },
        "id": "KrxL0IaFJVtx",
        "outputId": "957a70bc-7ff8-4611-8e9b-70f1e5755550"
      },
      "execution_count": 11,
      "outputs": [
        {
          "output_type": "execute_result",
          "data": {
            "text/plain": [
              "29784"
            ]
          },
          "metadata": {},
          "execution_count": 11
        }
      ]
    },
    {
      "cell_type": "markdown",
      "source": [
        "### 5. Print the schema"
      ],
      "metadata": {
        "id": "_jykKL4UKGhN"
      }
    },
    {
      "cell_type": "code",
      "source": [
        "df.printSchema()"
      ],
      "metadata": {
        "colab": {
          "base_uri": "https://localhost:8080/"
        },
        "id": "G_ipsF31J91l",
        "outputId": "c8c586a6-045c-428a-c446-2da332bba2ac"
      },
      "execution_count": 12,
      "outputs": [
        {
          "output_type": "stream",
          "name": "stdout",
          "text": [
            "root\n",
            " |-- X: double (nullable = true)\n",
            " |-- Y: double (nullable = true)\n",
            " |-- RowID: integer (nullable = true)\n",
            " |-- CrimeDateTime: string (nullable = true)\n",
            " |-- CrimeCode: string (nullable = true)\n",
            " |-- Location: string (nullable = true)\n",
            " |-- Description: string (nullable = true)\n",
            " |-- Inside_Outside: string (nullable = true)\n",
            " |-- Weapon: string (nullable = true)\n",
            " |-- Post: string (nullable = true)\n",
            " |-- District: string (nullable = true)\n",
            " |-- Neighborhood: string (nullable = true)\n",
            " |-- Latitude: double (nullable = true)\n",
            " |-- Longitude: double (nullable = true)\n",
            " |-- GeoLocation: string (nullable = true)\n",
            " |-- Premise: string (nullable = true)\n",
            " |-- VRIName: string (nullable = true)\n",
            " |-- Total_Incidents: integer (nullable = true)\n",
            " |-- Shape: string (nullable = true)\n",
            "\n"
          ]
        }
      ]
    },
    {
      "cell_type": "markdown",
      "source": [
        "### 6. Display first 5 rows"
      ],
      "metadata": {
        "id": "vmqy-FuBKV1j"
      }
    },
    {
      "cell_type": "code",
      "source": [
        "df.show(5)"
      ],
      "metadata": {
        "colab": {
          "base_uri": "https://localhost:8080/"
        },
        "id": "xb58QnmzKSok",
        "outputId": "bf4a0dc2-2582-474b-9129-312970cb5a4c"
      },
      "execution_count": 13,
      "outputs": [
        {
          "output_type": "stream",
          "name": "stdout",
          "text": [
            "+----------------+----------------+-----+--------------------+---------+------------------+--------------------+--------------+-------+----+---------+--------------+--------+---------+------------------+-------+-------+---------------+-----+\n",
            "|               X|               Y|RowID|       CrimeDateTime|CrimeCode|          Location|         Description|Inside_Outside| Weapon|Post| District|  Neighborhood|Latitude|Longitude|       GeoLocation|Premise|VRIName|Total_Incidents|Shape|\n",
            "+----------------+----------------+-----+--------------------+---------+------------------+--------------------+--------------+-------+----+---------+--------------+--------+---------+------------------+-------+-------+---------------+-----+\n",
            "|1428019.10487147|589532.731060804|    1|2022/03/05 03:43:...|      3NF|     1800 FLEET ST|    ROBBERY - STREET|          null|FIREARM| 213|SOUTHEAST|   FELLS POINT| 39.2847| -76.5913|(39.2847,-76.5913)|   null|   null|              1| null|\n",
            "|1428019.10487147|589532.731060804|    2|2022/03/05 03:43:...|      3NF|     1800 FLEET ST|    ROBBERY - STREET|          null|FIREARM| 213|SOUTHEAST|   FELLS POINT| 39.2847| -76.5913|(39.2847,-76.5913)|   null|   null|              1| null|\n",
            "|1428019.10487147|589532.731060804|    3|2022/03/05 03:43:...|      3NF|     1800 FLEET ST|    ROBBERY - STREET|          null|FIREARM| 213|SOUTHEAST|   FELLS POINT| 39.2847| -76.5913|(39.2847,-76.5913)|   null|   null|              1| null|\n",
            "|1423024.46477252| 572683.29122287|    4|2022/03/05 04:30:...|      3CF|100 E PATAPSCO AVE|ROBBERY - COMMERCIAL|          null|FIREARM| 913| SOUTHERN|      BROOKLYN| 39.2385| -76.6092|(39.2385,-76.6092)|   null|   null|              1| null|\n",
            "|1400632.37017858|593904.722108476|    5|2022/03/05 01:30:...|      3AF|     RD & KEVIN RD|    ROBBERY - STREET|          null|FIREARM| 822|SOUTHWEST|ROGNEL HEIGHTS|  39.297|  -76.688|  (39.297,-76.688)|   null|   null|              1| null|\n",
            "+----------------+----------------+-----+--------------------+---------+------------------+--------------------+--------------+-------+----+---------+--------------+--------+---------+------------------+-------+-------+---------------+-----+\n",
            "only showing top 5 rows\n",
            "\n"
          ]
        }
      ]
    },
    {
      "cell_type": "markdown",
      "source": [
        "### 7. Answer the following questions using DataFrame operations"
      ],
      "metadata": {
        "id": "oJ3Ddb2qKen_"
      }
    },
    {
      "cell_type": "markdown",
      "source": [
        "#### a. 1. What are distinct crime codes?"
      ],
      "metadata": {
        "id": "O1qeIaYFKkQ5"
      }
    },
    {
      "cell_type": "code",
      "source": [
        "df.select('CrimeCode').distinct().collect()"
      ],
      "metadata": {
        "colab": {
          "base_uri": "https://localhost:8080/"
        },
        "id": "wKOaeHEMUNsK",
        "outputId": "5da70bb0-a27b-4b4d-d25b-3ab1a7a1aabf"
      },
      "execution_count": 15,
      "outputs": [
        {
          "output_type": "execute_result",
          "data": {
            "text/plain": [
              "[Row(CrimeCode='3P'),\n",
              " Row(CrimeCode='3K'),\n",
              " Row(CrimeCode='3BJ'),\n",
              " Row(CrimeCode='1A'),\n",
              " Row(CrimeCode='3M'),\n",
              " Row(CrimeCode='5F'),\n",
              " Row(CrimeCode='4B'),\n",
              " Row(CrimeCode='3B'),\n",
              " Row(CrimeCode='3NF'),\n",
              " Row(CrimeCode='7A'),\n",
              " Row(CrimeCode='3EF'),\n",
              " Row(CrimeCode='3N'),\n",
              " Row(CrimeCode='5D'),\n",
              " Row(CrimeCode='3LO'),\n",
              " Row(CrimeCode='3AF'),\n",
              " Row(CrimeCode='7B'),\n",
              " Row(CrimeCode='3GO'),\n",
              " Row(CrimeCode='3AJF'),\n",
              " Row(CrimeCode='8AO'),\n",
              " Row(CrimeCode='7C'),\n",
              " Row(CrimeCode='3AK'),\n",
              " Row(CrimeCode='3GK'),\n",
              " Row(CrimeCode='6L'),\n",
              " Row(CrimeCode='3EO'),\n",
              " Row(CrimeCode='3JO'),\n",
              " Row(CrimeCode='1K'),\n",
              " Row(CrimeCode='8H'),\n",
              " Row(CrimeCode='4C'),\n",
              " Row(CrimeCode='5A'),\n",
              " Row(CrimeCode='6C'),\n",
              " Row(CrimeCode='3NK'),\n",
              " Row(CrimeCode='3D'),\n",
              " Row(CrimeCode='3AJK'),\n",
              " Row(CrimeCode='3CO'),\n",
              " Row(CrimeCode='3L'),\n",
              " Row(CrimeCode='4E'),\n",
              " Row(CrimeCode='6D'),\n",
              " Row(CrimeCode='2A'),\n",
              " Row(CrimeCode='3C'),\n",
              " Row(CrimeCode='8I'),\n",
              " Row(CrimeCode='3NO'),\n",
              " Row(CrimeCode='3JF'),\n",
              " Row(CrimeCode='3LF'),\n",
              " Row(CrimeCode='3E'),\n",
              " Row(CrimeCode='1O'),\n",
              " Row(CrimeCode='8J'),\n",
              " Row(CrimeCode='3CK'),\n",
              " Row(CrimeCode='8BO'),\n",
              " Row(CrimeCode='2B'),\n",
              " Row(CrimeCode='3JK'),\n",
              " Row(CrimeCode='5B'),\n",
              " Row(CrimeCode='4A'),\n",
              " Row(CrimeCode='3CF'),\n",
              " Row(CrimeCode='8EO'),\n",
              " Row(CrimeCode='6G'),\n",
              " Row(CrimeCode='6A'),\n",
              " Row(CrimeCode='9S'),\n",
              " Row(CrimeCode='3EK'),\n",
              " Row(CrimeCode='3GF'),\n",
              " Row(CrimeCode='3H'),\n",
              " Row(CrimeCode='4D'),\n",
              " Row(CrimeCode='8FO'),\n",
              " Row(CrimeCode='6J'),\n",
              " Row(CrimeCode='6F'),\n",
              " Row(CrimeCode='6E'),\n",
              " Row(CrimeCode='3J'),\n",
              " Row(CrimeCode='5C'),\n",
              " Row(CrimeCode='5E'),\n",
              " Row(CrimeCode='3AJO'),\n",
              " Row(CrimeCode='3AO'),\n",
              " Row(CrimeCode='6B'),\n",
              " Row(CrimeCode='6H'),\n",
              " Row(CrimeCode='8GO'),\n",
              " Row(CrimeCode='8AV')]"
            ]
          },
          "metadata": {},
          "execution_count": 15
        }
      ]
    },
    {
      "cell_type": "code",
      "source": [
        "display(df\n",
        "        .groupBy(\"CrimeCode\")\n",
        "        .agg(F.count(\"CrimeCode\"))\n",
        "        .withColumnRenamed(\"count(CrimeCode)\", \"CrimeCount\")\n",
        "        .orderBy(\"CrimeCount\", ascending=True)\n",
        "        )"
      ],
      "metadata": {
        "colab": {
          "base_uri": "https://localhost:8080/",
          "height": 34
        },
        "id": "hj7sP3i3KqhX",
        "outputId": "2a5c33a2-a2b5-41e5-fcc2-101bd5fe6959"
      },
      "execution_count": 17,
      "outputs": [
        {
          "output_type": "display_data",
          "data": {
            "text/plain": [
              "DataFrame[CrimeCode: string, CrimeCount: bigint]"
            ]
          },
          "metadata": {}
        }
      ]
    },
    {
      "cell_type": "code",
      "source": [
        "dataFrameWay = df.groupBy(\"CrimeCode\").count().withColumnRenamed(\"count(CrimeCode)\",\"CrimeCount\").sort(asc(\"count\"))"
      ],
      "metadata": {
        "id": "5i_A0tJzWr2P"
      },
      "execution_count": 18,
      "outputs": []
    },
    {
      "cell_type": "code",
      "source": [
        "df.select(\"CrimeCode\").groupBy(\"CrimeCode\").agg(F.count(\"CrimeCode\").alias(\"number_of_crimes\")).sort(col(\"number_of_crimes\").desc()).show()\n"
      ],
      "metadata": {
        "colab": {
          "base_uri": "https://localhost:8080/"
        },
        "id": "1ilh3p1ZZowQ",
        "outputId": "094d6d68-91f1-43cd-d4c1-37cc574203de"
      },
      "execution_count": 33,
      "outputs": [
        {
          "output_type": "stream",
          "name": "stdout",
          "text": [
            "+---------+----------------+\n",
            "|CrimeCode|number_of_crimes|\n",
            "+---------+----------------+\n",
            "|       4E|            6614|\n",
            "|       6D|            3910|\n",
            "|       7A|            2274|\n",
            "|       4B|            1907|\n",
            "|       6J|            1407|\n",
            "|       5A|            1239|\n",
            "|       6C|             998|\n",
            "|       4A|             979|\n",
            "|       4C|             978|\n",
            "|       6F|             948|\n",
            "|       6G|             888|\n",
            "|       5F|             884|\n",
            "|       5B|             647|\n",
            "|       9S|             598|\n",
            "|      3AF|             572|\n",
            "|       6L|             571|\n",
            "|       6E|             549|\n",
            "|      3AO|             396|\n",
            "|     3AJF|             385|\n",
            "|      3GF|             301|\n",
            "+---------+----------------+\n",
            "only showing top 20 rows\n",
            "\n"
          ]
        }
      ]
    },
    {
      "cell_type": "markdown",
      "source": [
        "### 3. Which neighborhood had most crimes?"
      ],
      "metadata": {
        "id": "takPezNEOkXP"
      }
    },
    {
      "cell_type": "code",
      "source": [
        "print(df\n",
        "        .groupBy(\"Neighborhood\")\n",
        "        .agg(F.count(\"Neighborhood\"))\n",
        "        .withColumnRenamed(\"count(Neighborhood)\", \"CrimeCount\")\n",
        "        .orderBy(\"CrimeCount\", ascending=False)\n",
        "        .first()[\"Neighborhood\"]\n",
        "        )"
      ],
      "metadata": {
        "colab": {
          "base_uri": "https://localhost:8080/"
        },
        "id": "vp9A5RPGLMER",
        "outputId": "b4cd579a-d86c-4cd4-d6f1-d1dd0e3b508d"
      },
      "execution_count": 21,
      "outputs": [
        {
          "output_type": "stream",
          "name": "stdout",
          "text": [
            "DOWNTOWN\n"
          ]
        }
      ]
    },
    {
      "cell_type": "markdown",
      "source": [
        "### 4. Which month of the year had most crimes?"
      ],
      "metadata": {
        "id": "vjrXcaAlOsqD"
      }
    },
    {
      "cell_type": "code",
      "source": [
        "df.select(F.unix_timestamp(\"CrimeDateTime\", \"yyyy/MM/dd HH:mm:ss+00\").alias(\"timestamps\")).groupBy(F.dayofyear(\"timestamps\")).agg(F.count(\"timestamps\"))"
      ],
      "metadata": {
        "colab": {
          "base_uri": "https://localhost:8080/",
          "height": 469
        },
        "id": "dK9shL2gOol6",
        "outputId": "4b38a7a4-c41d-49f2-d47d-65662ab19728"
      },
      "execution_count": 22,
      "outputs": [
        {
          "output_type": "error",
          "ename": "AnalysisException",
          "evalue": "ignored",
          "traceback": [
            "\u001b[0;31m---------------------------------------------------------------------------\u001b[0m",
            "\u001b[0;31mAnalysisException\u001b[0m                         Traceback (most recent call last)",
            "\u001b[0;32m<ipython-input-22-5b39ad5f8603>\u001b[0m in \u001b[0;36m<module>\u001b[0;34m\u001b[0m\n\u001b[0;32m----> 1\u001b[0;31m \u001b[0mdf\u001b[0m\u001b[0;34m.\u001b[0m\u001b[0mselect\u001b[0m\u001b[0;34m(\u001b[0m\u001b[0mF\u001b[0m\u001b[0;34m.\u001b[0m\u001b[0munix_timestamp\u001b[0m\u001b[0;34m(\u001b[0m\u001b[0;34m\"CrimeDateTime\"\u001b[0m\u001b[0;34m,\u001b[0m \u001b[0;34m\"yyyy/MM/dd HH:mm:ss+00\"\u001b[0m\u001b[0;34m)\u001b[0m\u001b[0;34m.\u001b[0m\u001b[0malias\u001b[0m\u001b[0;34m(\u001b[0m\u001b[0;34m\"timestamps\"\u001b[0m\u001b[0;34m)\u001b[0m\u001b[0;34m)\u001b[0m\u001b[0;34m.\u001b[0m\u001b[0mgroupBy\u001b[0m\u001b[0;34m(\u001b[0m\u001b[0mF\u001b[0m\u001b[0;34m.\u001b[0m\u001b[0mdayofyear\u001b[0m\u001b[0;34m(\u001b[0m\u001b[0;34m\"timestamps\"\u001b[0m\u001b[0;34m)\u001b[0m\u001b[0;34m)\u001b[0m\u001b[0;34m.\u001b[0m\u001b[0magg\u001b[0m\u001b[0;34m(\u001b[0m\u001b[0mF\u001b[0m\u001b[0;34m.\u001b[0m\u001b[0mcount\u001b[0m\u001b[0;34m(\u001b[0m\u001b[0;34m\"timestamps\"\u001b[0m\u001b[0;34m)\u001b[0m\u001b[0;34m)\u001b[0m\u001b[0;34m\u001b[0m\u001b[0;34m\u001b[0m\u001b[0m\n\u001b[0m",
            "\u001b[0;32m/usr/local/lib/python3.7/dist-packages/pyspark/sql/group.py\u001b[0m in \u001b[0;36magg\u001b[0;34m(self, *exprs)\u001b[0m\n\u001b[1;32m    135\u001b[0m             \u001b[0;32massert\u001b[0m \u001b[0mall\u001b[0m\u001b[0;34m(\u001b[0m\u001b[0misinstance\u001b[0m\u001b[0;34m(\u001b[0m\u001b[0mc\u001b[0m\u001b[0;34m,\u001b[0m \u001b[0mColumn\u001b[0m\u001b[0;34m)\u001b[0m \u001b[0;32mfor\u001b[0m \u001b[0mc\u001b[0m \u001b[0;32min\u001b[0m \u001b[0mexprs\u001b[0m\u001b[0;34m)\u001b[0m\u001b[0;34m,\u001b[0m \u001b[0;34m\"all exprs should be Column\"\u001b[0m\u001b[0;34m\u001b[0m\u001b[0;34m\u001b[0m\u001b[0m\n\u001b[1;32m    136\u001b[0m             \u001b[0mexprs\u001b[0m \u001b[0;34m=\u001b[0m \u001b[0mcast\u001b[0m\u001b[0;34m(\u001b[0m\u001b[0mTuple\u001b[0m\u001b[0;34m[\u001b[0m\u001b[0mColumn\u001b[0m\u001b[0;34m,\u001b[0m \u001b[0;34m...\u001b[0m\u001b[0;34m]\u001b[0m\u001b[0;34m,\u001b[0m \u001b[0mexprs\u001b[0m\u001b[0;34m)\u001b[0m\u001b[0;34m\u001b[0m\u001b[0;34m\u001b[0m\u001b[0m\n\u001b[0;32m--> 137\u001b[0;31m             \u001b[0mjdf\u001b[0m \u001b[0;34m=\u001b[0m \u001b[0mself\u001b[0m\u001b[0;34m.\u001b[0m\u001b[0m_jgd\u001b[0m\u001b[0;34m.\u001b[0m\u001b[0magg\u001b[0m\u001b[0;34m(\u001b[0m\u001b[0mexprs\u001b[0m\u001b[0;34m[\u001b[0m\u001b[0;36m0\u001b[0m\u001b[0;34m]\u001b[0m\u001b[0;34m.\u001b[0m\u001b[0m_jc\u001b[0m\u001b[0;34m,\u001b[0m \u001b[0m_to_seq\u001b[0m\u001b[0;34m(\u001b[0m\u001b[0mself\u001b[0m\u001b[0;34m.\u001b[0m\u001b[0msession\u001b[0m\u001b[0;34m.\u001b[0m\u001b[0m_sc\u001b[0m\u001b[0;34m,\u001b[0m \u001b[0;34m[\u001b[0m\u001b[0mc\u001b[0m\u001b[0;34m.\u001b[0m\u001b[0m_jc\u001b[0m \u001b[0;32mfor\u001b[0m \u001b[0mc\u001b[0m \u001b[0;32min\u001b[0m \u001b[0mexprs\u001b[0m\u001b[0;34m[\u001b[0m\u001b[0;36m1\u001b[0m\u001b[0;34m:\u001b[0m\u001b[0;34m]\u001b[0m\u001b[0;34m]\u001b[0m\u001b[0;34m)\u001b[0m\u001b[0;34m)\u001b[0m\u001b[0;34m\u001b[0m\u001b[0;34m\u001b[0m\u001b[0m\n\u001b[0m\u001b[1;32m    138\u001b[0m         \u001b[0;32mreturn\u001b[0m \u001b[0mDataFrame\u001b[0m\u001b[0;34m(\u001b[0m\u001b[0mjdf\u001b[0m\u001b[0;34m,\u001b[0m \u001b[0mself\u001b[0m\u001b[0;34m.\u001b[0m\u001b[0msession\u001b[0m\u001b[0;34m)\u001b[0m\u001b[0;34m\u001b[0m\u001b[0;34m\u001b[0m\u001b[0m\n\u001b[1;32m    139\u001b[0m \u001b[0;34m\u001b[0m\u001b[0m\n",
            "\u001b[0;32m/usr/local/lib/python3.7/dist-packages/py4j/java_gateway.py\u001b[0m in \u001b[0;36m__call__\u001b[0;34m(self, *args)\u001b[0m\n\u001b[1;32m   1320\u001b[0m         \u001b[0manswer\u001b[0m \u001b[0;34m=\u001b[0m \u001b[0mself\u001b[0m\u001b[0;34m.\u001b[0m\u001b[0mgateway_client\u001b[0m\u001b[0;34m.\u001b[0m\u001b[0msend_command\u001b[0m\u001b[0;34m(\u001b[0m\u001b[0mcommand\u001b[0m\u001b[0;34m)\u001b[0m\u001b[0;34m\u001b[0m\u001b[0;34m\u001b[0m\u001b[0m\n\u001b[1;32m   1321\u001b[0m         return_value = get_return_value(\n\u001b[0;32m-> 1322\u001b[0;31m             answer, self.gateway_client, self.target_id, self.name)\n\u001b[0m\u001b[1;32m   1323\u001b[0m \u001b[0;34m\u001b[0m\u001b[0m\n\u001b[1;32m   1324\u001b[0m         \u001b[0;32mfor\u001b[0m \u001b[0mtemp_arg\u001b[0m \u001b[0;32min\u001b[0m \u001b[0mtemp_args\u001b[0m\u001b[0;34m:\u001b[0m\u001b[0;34m\u001b[0m\u001b[0;34m\u001b[0m\u001b[0m\n",
            "\u001b[0;32m/usr/local/lib/python3.7/dist-packages/pyspark/sql/utils.py\u001b[0m in \u001b[0;36mdeco\u001b[0;34m(*a, **kw)\u001b[0m\n\u001b[1;32m    194\u001b[0m                 \u001b[0;31m# Hide where the exception came from that shows a non-Pythonic\u001b[0m\u001b[0;34m\u001b[0m\u001b[0;34m\u001b[0m\u001b[0;34m\u001b[0m\u001b[0m\n\u001b[1;32m    195\u001b[0m                 \u001b[0;31m# JVM exception message.\u001b[0m\u001b[0;34m\u001b[0m\u001b[0;34m\u001b[0m\u001b[0;34m\u001b[0m\u001b[0m\n\u001b[0;32m--> 196\u001b[0;31m                 \u001b[0;32mraise\u001b[0m \u001b[0mconverted\u001b[0m \u001b[0;32mfrom\u001b[0m \u001b[0;32mNone\u001b[0m\u001b[0;34m\u001b[0m\u001b[0;34m\u001b[0m\u001b[0m\n\u001b[0m\u001b[1;32m    197\u001b[0m             \u001b[0;32melse\u001b[0m\u001b[0;34m:\u001b[0m\u001b[0;34m\u001b[0m\u001b[0;34m\u001b[0m\u001b[0m\n\u001b[1;32m    198\u001b[0m                 \u001b[0;32mraise\u001b[0m\u001b[0;34m\u001b[0m\u001b[0;34m\u001b[0m\u001b[0m\n",
            "\u001b[0;31mAnalysisException\u001b[0m: cannot resolve 'dayofyear(timestamps)' due to data type mismatch: argument 1 requires date type, however, 'timestamps' is of bigint type.;\n'Aggregate [dayofyear(timestamps#2686L)], [dayofyear(timestamps#2686L) AS dayofyear(timestamps)#2690, count(timestamps#2686L) AS count(timestamps)#2691L]\n+- Project [unix_timestamp(CrimeDateTime#3, yyyy/MM/dd HH:mm:ss+00, Some(Etc/UTC), false) AS timestamps#2686L]\n   +- Relation [X#0,Y#1,RowID#2,CrimeDateTime#3,CrimeCode#4,Location#5,Description#6,Inside_Outside#7,Weapon#8,Post#9,District#10,Neighborhood#11,Latitude#12,Longitude#13,GeoLocation#14,Premise#15,VRIName#16,Total_Incidents#17,Shape#18] csv\n"
          ]
        }
      ]
    },
    {
      "cell_type": "code",
      "source": [
        "from pyspark.sql.functions import month"
      ],
      "metadata": {
        "id": "dkKQCZr1Xh1S"
      },
      "execution_count": 25,
      "outputs": []
    },
    {
      "cell_type": "code",
      "source": [
        "monthdf = df.withColumn(\"Month\",month(\"CrimeDatetime\"))\n",
        "monthdf"
      ],
      "metadata": {
        "colab": {
          "base_uri": "https://localhost:8080/"
        },
        "id": "SYmavoAXXopK",
        "outputId": "aaf979ff-ad7b-414d-d0c6-a722668b2e8f"
      },
      "execution_count": 28,
      "outputs": [
        {
          "output_type": "execute_result",
          "data": {
            "text/plain": [
              "DataFrame[X: double, Y: double, RowID: int, CrimeDateTime: string, CrimeCode: string, Location: string, Description: string, Inside_Outside: string, Weapon: string, Post: string, District: string, Neighborhood: string, Latitude: double, Longitude: double, GeoLocation: string, Premise: string, VRIName: string, Total_Incidents: int, Shape: string, Month: int]"
            ]
          },
          "metadata": {},
          "execution_count": 28
        }
      ]
    },
    {
      "cell_type": "code",
      "source": [
        "monthCounts = monthdf.select(\"Month\").groupBy(\"Month\").count()\n",
        "monthCounts"
      ],
      "metadata": {
        "colab": {
          "base_uri": "https://localhost:8080/"
        },
        "id": "GLnkBaSPbNbk",
        "outputId": "767dc81f-d5fb-4caa-b559-fe6769dc9992"
      },
      "execution_count": 35,
      "outputs": [
        {
          "output_type": "execute_result",
          "data": {
            "text/plain": [
              "DataFrame[Month: int, count: bigint]"
            ]
          },
          "metadata": {},
          "execution_count": 35
        }
      ]
    },
    {
      "cell_type": "markdown",
      "source": [
        "### 5. What weapons were used?"
      ],
      "metadata": {
        "id": "b2A03xQMPA8j"
      }
    },
    {
      "cell_type": "code",
      "source": [
        "not_weapon = [\"NA\",\"null\"]\n",
        "print(df\n",
        "       .filter(~F.col(\"Weapon\").isin(not_weapon))\n",
        "       .select(\"Weapon\")\n",
        "       .distinct()\n",
        "       )"
      ],
      "metadata": {
        "colab": {
          "base_uri": "https://localhost:8080/"
        },
        "id": "d6ACJcfVOy1g",
        "outputId": "43b55278-5f6c-44d3-f8b3-96c026d07148"
      },
      "execution_count": 46,
      "outputs": [
        {
          "output_type": "stream",
          "name": "stdout",
          "text": [
            "DataFrame[Weapon: string]\n"
          ]
        }
      ]
    },
    {
      "cell_type": "code",
      "source": [
        "crimetypes= df.filter(~F.col(\"Weapon\").isin(not_weapon)).select(\"Weapon\").distinct()"
      ],
      "metadata": {
        "id": "3r6tqXFqdlc0"
      },
      "execution_count": 47,
      "outputs": []
    },
    {
      "cell_type": "code",
      "source": [
        "crimetypes "
      ],
      "metadata": {
        "colab": {
          "base_uri": "https://localhost:8080/"
        },
        "id": "5GF-Vq1YdD-R",
        "outputId": "a64cb740-83ec-4049-cec0-ef89aeb18e8b"
      },
      "execution_count": 48,
      "outputs": [
        {
          "output_type": "execute_result",
          "data": {
            "text/plain": [
              "DataFrame[Weapon: string]"
            ]
          },
          "metadata": {},
          "execution_count": 48
        }
      ]
    },
    {
      "cell_type": "markdown",
      "source": [
        "### 6. Which weapon was used the most?"
      ],
      "metadata": {
        "id": "o-3QMc6CPg_y"
      }
    },
    {
      "cell_type": "code",
      "source": [
        "print(df\n",
        "        .filter(~F.col(\"Weapon\").isin(not_weapon))\n",
        "        .groupBy(\"Weapon\")\n",
        "        .agg(F.count(\"Weapon\"))\n",
        "        .withColumnRenamed(\"count(Weapon)\", \"WeaponCount\")\n",
        "        .orderBy(\"WeaponCount\", ascending=False)\n",
        "        .first()[\"Weapon\"]\n",
        "        )"
      ],
      "metadata": {
        "colab": {
          "base_uri": "https://localhost:8080/"
        },
        "id": "GldN3HN7PZUU",
        "outputId": "49558a31-5f45-4b39-f4b0-fd37d32a60a5"
      },
      "execution_count": 24,
      "outputs": [
        {
          "output_type": "stream",
          "name": "stdout",
          "text": [
            "FIREARM\n"
          ]
        }
      ]
    },
    {
      "cell_type": "code",
      "source": [],
      "metadata": {
        "id": "b5DTTXIlPcj2"
      },
      "execution_count": null,
      "outputs": []
    }
  ]
}